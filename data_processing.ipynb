{
 "cells": [
  {
   "cell_type": "code",
   "execution_count": 1,
   "id": "9f7cb644",
   "metadata": {},
   "outputs": [],
   "source": [
    "import pandas as pd\n",
    "import numpy as np\n",
    "from flowenv.src.const import Const\n",
    "from pathlib import Path\n",
    "from sklearn.preprocessing import OneHotEncoder\n",
    "from imblearn.over_sampling import SMOTENC\n",
    "\n",
    "\n",
    "def min_max_p(p):\n",
    "    min_p = p.min()\n",
    "    max_p = p.max()\n",
    "    return (p - min_p) / (max_p - min_p)\n",
    "\n",
    "\n",
    "CONST = Const()\n",
    "ATTACK_LABELS = CONST.attack_labels\n",
    "CATEGORICAL_FEATURES = [\"Dst Port\", \"Protocol\"]\n",
    "\n",
    "TRAIN_DATA_PATH = \"./DNP3_Intrusion_Detection_Dataset_Final/Training_Testing_Balanced_CSV_Files/CICFlowMeter/CICFlowMeter_Training_Balanced.csv\"\n",
    "TEST_DATA_PATH = \"./DNP3_Intrusion_Detection_Dataset_Final/Training_Testing_Balanced_CSV_Files/CICFlowMeter/CICFlowMeter_Testing_Balanced.csv\"\n",
    "\n",
    "# TRAIN_DATA_PATH = Path(__file__).resolve().parent.joinpath(TRAIN_DATA_PATH)\n",
    "# TEST_DATA_PATH = Path(__file__).resolve().parent.joinpath(TEST_DATA_PATH)\n",
    "\n",
    "train_data = pd.read_csv(TRAIN_DATA_PATH).replace([np.inf, -np.inf], np.nan).dropna(how=\"all\").dropna(how=\"all\", axis=1)\n",
    "test_data = pd.read_csv(TEST_DATA_PATH).dropna(how=\"all\").replace([np.inf, -np.inf], np.nan).dropna(how=\"all\", axis=1)\n"
   ]
  },
  {
   "cell_type": "code",
   "execution_count": 4,
   "id": "140bec85",
   "metadata": {},
   "outputs": [
    {
     "data": {
      "text/plain": [
       "np.int64(340)"
      ]
     },
     "execution_count": 4,
     "metadata": {},
     "output_type": "execute_result"
    }
   ],
   "source": [
    "train_data.duplicated().sum()"
   ]
  },
  {
   "cell_type": "code",
   "execution_count": 5,
   "id": "5525f8d3",
   "metadata": {},
   "outputs": [],
   "source": [
    "binarize = False\n",
    "balance = True\n",
    "\n",
    "train_data = pd.read_csv(TRAIN_DATA_PATH).replace([np.inf, -np.inf], np.nan).dropna(how=\"all\").dropna(how=\"all\", axis=1)\n",
    "test_data = pd.read_csv(TEST_DATA_PATH).replace([np.inf, -np.inf], np.nan).dropna(how=\"all\").dropna(how=\"all\", axis=1)\n",
    "\n",
    "# unique\n",
    "targets = \"\"\n",
    "if binarize:\n",
    "    train_data[\"Binary Label\"] = train_data[\"Label\"].apply(lambda label: label in ATTACK_LABELS)\n",
    "    test_data[\"Binary Label\"] = test_data[\"Label\"].apply(lambda label: label in ATTACK_LABELS)\n",
    "    targets = \"Binary Label\"\n",
    "else:\n",
    "    train_data[\"Label Index\"] = train_data[\"Label\"].apply(lambda x: 0 if x not in ATTACK_LABELS else ATTACK_LABELS.index(x) + 1)\n",
    "    test_data[\"Label Index\"] = test_data[\"Label\"].apply(lambda x: 0 if x not in ATTACK_LABELS else ATTACK_LABELS.index(x) + 1)\n",
    "    targets = \"Label Index\"\n",
    "\n",
    "# --------\n",
    "\n",
    "train_data = train_data.filter(items=CONST.features_labels + [targets])\n",
    "test_data = test_data.filter(items=CONST.features_labels + [targets])\n"
   ]
  },
  {
   "cell_type": "code",
   "execution_count": 13,
   "id": "7c961097",
   "metadata": {},
   "outputs": [],
   "source": [
    "conbine_data = pd.concat([train_data, test_data], ignore_index=True)"
   ]
  },
  {
   "cell_type": "code",
   "execution_count": 14,
   "id": "e2aebf83",
   "metadata": {},
   "outputs": [],
   "source": [
    "ohe = OneHotEncoder(sparse_output=False)\n",
    "conbine_data_ohe = ohe.fit_transform(conbine_data[CATEGORICAL_FEATURES])\n",
    "conbine_data_ohe = pd.DataFrame(conbine_data_ohe, columns=ohe.get_feature_names_out(CATEGORICAL_FEATURES))"
   ]
  },
  {
   "cell_type": "code",
   "execution_count": 15,
   "id": "2432c448",
   "metadata": {},
   "outputs": [],
   "source": [
    "drop_columns_data = conbine_data.drop(columns=CATEGORICAL_FEATURES)\n",
    "conbine_data_after_ohe = pd.concat([drop_columns_data, conbine_data_ohe], axis=1)"
   ]
  },
  {
   "cell_type": "code",
   "execution_count": null,
   "id": "aff396b3",
   "metadata": {},
   "outputs": [],
   "source": [
    "\n",
    "ohe = OneHotEncoder(sparse_output=False)\n",
    "train_data_ohe = ohe.fit_transform(train_data[CATEGORICAL_FEATURES])\n",
    "train_data_ohe = pd.DataFrame(train_data_ohe, columns=ohe.get_feature_names_out(CATEGORICAL_FEATURES))\n",
    "train_data = pd.concat([train_data.drop(columns=CATEGORICAL_FEATURES), train_data_ohe], axis=1)\n",
    "train_smotenc_columns = ohe.get_feature_names_out(CATEGORICAL_FEATURES).tolist()\n",
    "\n",
    "test_data_ohe = ohe.fit_transform(test_data[CATEGORICAL_FEATURES])\n",
    "test_data_ohe = pd.DataFrame(test_data_ohe, columns=ohe.get_feature_names_out(CATEGORICAL_FEATURES))\n",
    "test_data = pd.concat([test_data.drop(columns=CATEGORICAL_FEATURES), test_data_ohe], axis=1)\n",
    "\n",
    "for label in CONST.normalization_features:\n",
    "    train_data[label] = min_max_p(train_data[label])\n",
    "    test_data[label] = min_max_p(test_data[label])\n",
    "\n",
    "train_data = train_data.dropna(how=\"any\")\n",
    "test_data = test_data.dropna(how=\"any\")\n"
   ]
  },
  {
   "cell_type": "code",
   "execution_count": 3,
   "id": "20a64cc0",
   "metadata": {},
   "outputs": [],
   "source": [
    "y_train = train_data[targets]\n",
    "X_train = train_data.drop(columns=[targets])\n",
    "\n",
    "smote = SMOTENC(\n",
    "    categorical_features=[X_train.columns.get_loc(label) for label in train_smotenc_columns], \n",
    "    # random_state=42,\n",
    "    # k_neighbors=3\n",
    ")"
   ]
  },
  {
   "cell_type": "code",
   "execution_count": 33,
   "id": "a8ac68c2",
   "metadata": {},
   "outputs": [
    {
     "name": "stdout",
     "output_type": "stream",
     "text": [
      "(5126, 493)\n",
      "0       0\n",
      "1       0\n",
      "2       0\n",
      "3       2\n",
      "4       1\n",
      "       ..\n",
      "5121    2\n",
      "5122    1\n",
      "5123    2\n",
      "5124    2\n",
      "5125    0\n",
      "Name: Label Index, Length: 5126, dtype: int64\n",
      "[69, 70, 71, 72, 73, 74, 75, 76, 77, 78, 79, 80, 81, 82, 83, 84, 85, 86, 87, 88, 89, 90, 91, 92, 93, 94, 95, 96, 97, 98, 99, 100, 101, 102, 103, 104, 105, 106, 107, 108, 109, 110, 111, 112, 113, 114, 115, 116, 117, 118, 119, 120, 121, 122, 123, 124, 125, 126, 127, 128, 129, 130, 131, 132, 133, 134, 135, 136, 137, 138, 139, 140, 141, 142, 143, 144, 145, 146, 147, 148, 149, 150, 151, 152, 153, 154, 155, 156, 157, 158, 159, 160, 161, 162, 163, 164, 165, 166, 167, 168, 169, 170, 171, 172, 173, 174, 175, 176, 177, 178, 179, 180, 181, 182, 183, 184, 185, 186, 187, 188, 189, 190, 191, 192, 193, 194, 195, 196, 197, 198, 199, 200, 201, 202, 203, 204, 205, 206, 207, 208, 209, 210, 211, 212, 213, 214, 215, 216, 217, 218, 219, 220, 221, 222, 223, 224, 225, 226, 227, 228, 229, 230, 231, 232, 233, 234, 235, 236, 237, 238, 239, 240, 241, 242, 243, 244, 245, 246, 247, 248, 249, 250, 251, 252, 253, 254, 255, 256, 257, 258, 259, 260, 261, 262, 263, 264, 265, 266, 267, 268, 269, 270, 271, 272, 273, 274, 275, 276, 277, 278, 279, 280, 281, 282, 283, 284, 285, 286, 287, 288, 289, 290, 291, 292, 293, 294, 295, 296, 297, 298, 299, 300, 301, 302, 303, 304, 305, 306, 307, 308, 309, 310, 311, 312, 313, 314, 315, 316, 317, 318, 319, 320, 321, 322, 323, 324, 325, 326, 327, 328, 329, 330, 331, 332, 333, 334, 335, 336, 337, 338, 339, 340, 341, 342, 343, 344, 345, 346, 347, 348, 349, 350, 351, 352, 353, 354, 355, 356, 357, 358, 359, 360, 361, 362, 363, 364, 365, 366, 367, 368, 369, 370, 371, 372, 373, 374, 375, 376, 377, 378, 379, 380, 381, 382, 383, 384, 385, 386, 387, 388, 389, 390, 391, 392, 393, 394, 395, 396, 397, 398, 399, 400, 401, 402, 403, 404, 405, 406, 407, 408, 409, 410, 411, 412, 413, 414, 415, 416, 417, 418, 419, 420, 421, 422, 423, 424, 425, 426, 427, 428, 429, 430, 431, 432, 433, 434, 435, 436, 437, 438, 439, 440, 441, 442, 443, 444, 445, 446, 447, 448, 449, 450, 451, 452, 453, 454, 455, 456, 457, 458, 459, 460, 461, 462, 463, 464, 465, 466, 467, 468, 469, 470, 471, 472, 473, 474, 475, 476, 477, 478, 479, 480, 481, 482, 483, 484, 485, 486, 487, 488, 489, 490, 491, 492, 493]\n"
     ]
    }
   ],
   "source": [
    "print(X_train.shape)\n",
    "print(y_train)\n",
    "print([train_data.columns.get_loc(label) for label in train_smotenc_columns])"
   ]
  },
  {
   "cell_type": "code",
   "execution_count": 4,
   "id": "3e9489a2",
   "metadata": {},
   "outputs": [],
   "source": [
    "X_train, y_train = smote.fit_resample(X_train, y_train)\n",
    "\n",
    "X_resampled = pd.DataFrame(X_train, columns=CONST.features_labels)\n",
    "y_resampled = pd.Series(y_train, name=targets)\n",
    "\n",
    "resampled_train_data = pd.concat([X_resampled, y_resampled], axis=1)"
   ]
  },
  {
   "cell_type": "code",
   "execution_count": null,
   "id": "6ccc2c95",
   "metadata": {},
   "outputs": [],
   "source": []
  }
 ],
 "metadata": {
  "kernelspec": {
   "display_name": ".venv",
   "language": "python",
   "name": "python3"
  },
  "language_info": {
   "codemirror_mode": {
    "name": "ipython",
    "version": 3
   },
   "file_extension": ".py",
   "mimetype": "text/x-python",
   "name": "python",
   "nbconvert_exporter": "python",
   "pygments_lexer": "ipython3",
   "version": "3.12.2"
  }
 },
 "nbformat": 4,
 "nbformat_minor": 5
}
