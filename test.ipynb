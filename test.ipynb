{
 "cells": [
  {
   "cell_type": "code",
   "execution_count": 1,
   "id": "993ac18e",
   "metadata": {},
   "outputs": [],
   "source": [
    "import matplotlib\n",
    "import random\n",
    "\n",
    "from collections import deque, namedtuple\n",
    "from itertools import count\n",
    "from time import time\n",
    "\n",
    "import gymnasium as gym\n",
    "from gymnasium.vector import AsyncVectorEnv\n",
    "import matplotlib.pyplot as plt\n",
    "import numpy as np\n",
    "import torch\n",
    "import torch.nn as nn\n",
    "import torch.nn.functional as F\n",
    "import torch.nn.utils as utils\n",
    "import torch.optim as optim\n",
    "import pandas as pd\n",
    "\n",
    "is_ipython = 'inline' in matplotlib.get_backend()\n",
    "if is_ipython:\n",
    "    from IPython import display\n",
    "# torch.autograd.set_detect_anomaly(True)"
   ]
  },
  {
   "cell_type": "code",
   "execution_count": 2,
   "id": "604c5294",
   "metadata": {},
   "outputs": [],
   "source": [
    "import sys\n",
    "sys.path.append(\"/Users/toshi_pro/Documents/github-sub/machine-learning\")\n",
    "# sys.path.append(\"/Users/toshi/Documents/school/machine-learning\")\n",
    "# sys.path.append(r\"C:\\Users\\takat\\PycharmProjects\\machine-learning\")\n",
    "import flowdata\n",
    "import flowenv\n",
    "\n",
    "raw_data_train, raw_data_test = flowdata.flow_data.using_data()\n",
    "raw_data_train.dropna(how=\"any\")\n",
    "raw_data_test.dropna(how=\"any\")\n",
    "\n",
    "train_envs = gym.make_vec(\"flowenv/Flow-v1\", data=raw_data_train, num_envs=4, vectorization_mode=\"async\")\n",
    "test_envs = gym.make_vec(\"flowenv/Flow-v1\", data=raw_data_test, num_envs=4, vectorization_mode=\"async\")\n"
   ]
  },
  {
   "cell_type": "code",
   "execution_count": 9,
   "id": "38e3cd5e",
   "metadata": {},
   "outputs": [],
   "source": [
    "initial_states, _ = train_envs.reset()"
   ]
  },
  {
   "cell_type": "code",
   "execution_count": 8,
   "id": "095eeefb",
   "metadata": {},
   "outputs": [
    {
     "name": "stdout",
     "output_type": "stream",
     "text": [
      "4\n"
     ]
    }
   ],
   "source": [
    "print(len(initial_states))"
   ]
  },
  {
   "cell_type": "code",
   "execution_count": 18,
   "id": "caa6bdf9",
   "metadata": {},
   "outputs": [],
   "source": [
    "class PolicyNetwork(nn.Module):\n",
    "    def __init__(self, n_inputs, n_outputs):\n",
    "        super(PolicyNetwork, self).__init__()\n",
    "        self.common_fc = nn.Sequential(\n",
    "            nn.Linear(n_inputs, 128),\n",
    "            nn.ReLU(),\n",
    "            nn.Linear(128, 128),\n",
    "            nn.ReLU()\n",
    "        )\n",
    "        self.probs = nn.Sequential(\n",
    "            nn.Linear(128, n_outputs),\n",
    "            nn.Softmax(dim=-1)\n",
    "        )\n",
    "        self.fc_value = nn.Linear(128, 1)\n",
    "\n",
    "    def forward(self, x):\n",
    "        x = self.common_fc(x)\n",
    "        probs = self.probs(x)\n",
    "        value = self.fc_value(x)\n",
    "        return probs, value\n",
    "\n",
    "n_input_shape = 70\n",
    "n_output_shape = 2\n",
    "policy_net = PolicyNetwork(n_input_shape, n_output_shape)\n",
    "optimizer = optim.Adam(policy_net.parameters(), lr=1e-5)\n"
   ]
  },
  {
   "cell_type": "code",
   "execution_count": 19,
   "id": "6bf7391f",
   "metadata": {},
   "outputs": [
    {
     "name": "stdout",
     "output_type": "stream",
     "text": [
      "tensor([[1],\n",
      "        [0],\n",
      "        [1],\n",
      "        [0]])\n"
     ]
    }
   ],
   "source": [
    "confusion_matrix = np.zeros((2,2), dtype=int)\n",
    "one_episode_rewards = []\n",
    "one_episode_log_probs = []\n",
    "states = torch.tensor(initial_states, dtype=torch.float32)\n",
    "prob_distribution, value = policy_net(states)\n",
    "\n",
    "actions = torch.multinomial(prob_distribution, num_samples=1)\n",
    "print(actions)"
   ]
  },
  {
   "cell_type": "code",
   "execution_count": 20,
   "id": "0bd60a8d",
   "metadata": {},
   "outputs": [],
   "source": [
    "next_states, rewards, terminated, truncated, info = train_envs.step(actions)"
   ]
  },
  {
   "cell_type": "code",
   "execution_count": 21,
   "id": "1f320624",
   "metadata": {},
   "outputs": [
    {
     "name": "stdout",
     "output_type": "stream",
     "text": [
      "[(1, 0) (1, 1) (1, 0) (1, 1)]\n"
     ]
    }
   ],
   "source": [
    "print(info[\"confusion_position\"])\n",
    "for item in info[\"confusion_position\"]:\n",
    "    confusion_matrix[item[0], item[1]] += 1\n",
    "\n",
    "rewards = torch.tensor(rewards, dtype=torch.float32)\n",
    "one_episode_rewards.append(rewards)\n",
    "log_probs = prob_distribution.gather(1, actions)\n",
    "one_episode_log_probs.append(torch.log(log_probs))"
   ]
  },
  {
   "cell_type": "code",
   "execution_count": 23,
   "id": "5c23e6a1",
   "metadata": {},
   "outputs": [
    {
     "name": "stdout",
     "output_type": "stream",
     "text": [
      "False\n"
     ]
    }
   ],
   "source": [
    "print(True in terminated)\n",
    "if True in terminated:\n",
    "    next_states "
   ]
  },
  {
   "cell_type": "code",
   "execution_count": null,
   "id": "6b482a72",
   "metadata": {},
   "outputs": [],
   "source": []
  }
 ],
 "metadata": {
  "kernelspec": {
   "display_name": "Python 3 (ipykernel)",
   "language": "python",
   "name": "python3"
  },
  "language_info": {
   "codemirror_mode": {
    "name": "ipython",
    "version": 3
   },
   "file_extension": ".py",
   "mimetype": "text/x-python",
   "name": "python",
   "nbconvert_exporter": "python",
   "pygments_lexer": "ipython3",
   "version": "3.12.2"
  }
 },
 "nbformat": 4,
 "nbformat_minor": 5
}
