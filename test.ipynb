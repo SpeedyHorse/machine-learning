{
 "cells": [
  {
   "cell_type": "code",
   "execution_count": 1,
   "id": "e9dfbfa5842076e3",
   "metadata": {
    "ExecuteTime": {
     "end_time": "2025-01-05T06:34:26.490410Z",
     "start_time": "2025-01-05T06:34:25.629116Z"
    }
   },
   "outputs": [],
   "source": [
    "import pandas as pd\n",
    "import numpy as np\n",
    "from flowenv.src.const import Const\n",
    "from pathlib import Path\n",
    "from imblearn.over_sampling import SMOTENC\n",
    "\n",
    "CONST = Const()\n",
    "TRAIN_DATA_PATH = \"./DNP3_Intrusion_Detection_Dataset_Final/Training_Testing_Balanced_CSV_Files/CICFlowMeter/CICFlowMeter_Training_Balanced.csv\"\n",
    "TEST_DATA_PATH = \"./DNP3_Intrusion_Detection_Dataset_Final/Training_Testing_Balanced_CSV_Files/CICFlowMeter/CICFlowMeter_Testing_Balanced.csv\"\n",
    "\n",
    "# TRAIN_DATA_PATH = Path(__file__).resolve().parent.joinpath(TRAIN_DATA_PATH)\n",
    "# TEST_DATA_PATH = Path(__file__).resolve().parent.joinpath(TEST_DATA_PATH)\n",
    "\n",
    "def min_max_p(p):\n",
    "    min_p = p.min()\n",
    "    max_p = p.max()\n",
    "    return (p - min_p) / (max_p - min_p)"
   ]
  },
  {
   "cell_type": "code",
   "execution_count": 2,
   "id": "75271303ffb53291",
   "metadata": {
    "ExecuteTime": {
     "end_time": "2025-01-05T06:34:27.247596Z",
     "start_time": "2025-01-05T06:34:27.096537Z"
    }
   },
   "outputs": [],
   "source": [
    "train_data = pd.read_csv(TRAIN_DATA_PATH).replace([np.inf, -np.inf], np.nan).dropna(how=\"all\").dropna(how=\"all\", axis=1)\n",
    "test_data = pd.read_csv(TEST_DATA_PATH).dropna(how=\"all\").replace([np.inf, -np.inf], np.nan).dropna(how=\"all\", axis=1)\n",
    "\n",
    "train_data[\"Binary Label\"] = train_data[\"Label\"] == \"NORMAL\"\n",
    "test_data[\"Binary Label\"] = test_data[\"Label\"] == \"NORMAL\"\n",
    "\n",
    "for label in CONST.normalization_features:\n",
    "    train_data[label] = min_max_p(train_data[label])\n",
    "    test_data[label] = min_max_p(test_data[label])\n",
    "\n",
    "train_data = train_data.dropna(how=\"any\")\n",
    "test_data = test_data.dropna(how=\"any\")"
   ]
  },
  {
   "cell_type": "code",
   "execution_count": 4,
   "id": "8342f7cd8fbdb69f",
   "metadata": {
    "ExecuteTime": {
     "end_time": "2025-01-05T06:34:28.607427Z",
     "start_time": "2025-01-05T06:34:28.548622Z"
    }
   },
   "outputs": [],
   "source": [
    "train_data = train_data.filter(items=CONST.features_labels + [\"Binary Label\"])"
   ]
  },
  {
   "cell_type": "code",
   "execution_count": 5,
   "id": "cf70fccfd91496cd",
   "metadata": {},
   "outputs": [
    {
     "name": "stdout",
     "output_type": "stream",
     "text": [
      "Binary Label\n",
      "False    4659\n",
      "True      466\n",
      "Name: count, dtype: int64\n"
     ]
    }
   ],
   "source": [
    "print(train_data[\"Binary Label\"].value_counts())"
   ]
  },
  {
   "cell_type": "code",
   "execution_count": 6,
   "id": "c3858f99",
   "metadata": {},
   "outputs": [],
   "source": [
    "categorycal_features = [\"Dst Port\", \"Protocol\"]\n",
    "\n",
    "smote = SMOTENC(\n",
    "    categorical_features=[train_data.columns.get_loc(label) for label in categorycal_features], \n",
    "    random_state=42\n",
    ")\n",
    "\n",
    "X_train = train_data.drop(columns=[\"Binary Label\"])\n",
    "y_train = train_data[\"Binary Label\"]\n",
    "\n",
    "X_train, y_train = smote.fit_resample(X_train, y_train)"
   ]
  },
  {
   "cell_type": "code",
   "execution_count": 7,
   "id": "a1f3f5a2",
   "metadata": {},
   "outputs": [],
   "source": [
    "X_resampled = pd.DataFrame(X_train, columns=CONST.features_labels)\n",
    "y_resampled = pd.Series(y_train, name=\"Binary Label\")\n",
    "\n",
    "resampled_train_data = pd.concat([X_resampled, y_resampled], axis=1)\n"
   ]
  },
  {
   "cell_type": "code",
   "execution_count": null,
   "id": "a122ba4a",
   "metadata": {},
   "outputs": [],
   "source": []
  }
 ],
 "metadata": {
  "kernelspec": {
   "display_name": ".venv",
   "language": "python",
   "name": "python3"
  },
  "language_info": {
   "codemirror_mode": {
    "name": "ipython",
    "version": 3
   },
   "file_extension": ".py",
   "mimetype": "text/x-python",
   "name": "python",
   "nbconvert_exporter": "python",
   "pygments_lexer": "ipython3",
   "version": "3.12.0"
  }
 },
 "nbformat": 4,
 "nbformat_minor": 5
}
