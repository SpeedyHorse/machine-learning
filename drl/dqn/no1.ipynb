{
 "cells": [
  {
   "metadata": {},
   "cell_type": "markdown",
   "source": "# DQN",
   "id": "1d3ed494c7298ec9"
  },
  {
   "cell_type": "code",
   "id": "ed77a56cece86c43",
   "metadata": {
    "ExecuteTime": {
     "end_time": "2024-12-31T06:54:36.969315Z",
     "start_time": "2024-12-31T06:54:35.342342Z"
    }
   },
   "source": [
    "\n",
    "import matplotlib\n",
    "import random\n",
    "\n",
    "from collections import deque, namedtuple\n",
    "from itertools import count\n",
    "from time import time\n",
    "\n",
    "import gymnasium as gym\n",
    "import matplotlib.pyplot as plt\n",
    "import numpy as np\n",
    "import torch\n",
    "import torch.nn as nn\n",
    "import torch.nn.functional as F\n",
    "import torch.nn.utils as utils\n",
    "import torch.optim as optim\n",
    "import pandas as pd\n",
    "\n",
    "is_ipython = 'inline' in matplotlib.get_backend()\n",
    "if is_ipython:\n",
    "    pass"
   ],
   "outputs": [],
   "execution_count": 1
  },
  {
   "metadata": {
    "ExecuteTime": {
     "end_time": "2024-12-31T06:54:37.126219Z",
     "start_time": "2024-12-31T06:54:37.101Z"
    }
   },
   "cell_type": "code",
   "source": "torch.cuda.is_available()",
   "id": "a8b21536077fd189",
   "outputs": [
    {
     "data": {
      "text/plain": [
       "True"
      ]
     },
     "execution_count": 2,
     "metadata": {},
     "output_type": "execute_result"
    }
   ],
   "execution_count": 2
  },
  {
   "metadata": {
    "ExecuteTime": {
     "end_time": "2024-12-31T06:54:37.138743Z",
     "start_time": "2024-12-31T06:54:37.135522Z"
    }
   },
   "cell_type": "code",
   "source": [
    "device_name = \"cpu\"\n",
    "\n",
    "if True:\n",
    "    if torch.cuda.is_available():\n",
    "        device_name = \"cuda\"\n",
    "    elif torch.mps.is_available():\n",
    "        device_name = \"mps\"\n",
    "    # elif torch.hip.is_available():\n",
    "    #     device_name = \"hip\"\n",
    "    elif torch.mtia.is_available():\n",
    "        device_name = \"mtia\"\n",
    "    elif torch.xpu.is_available():\n",
    "        device_name = \"xpu\"\n",
    "\n",
    "device = torch.device(device_name)\n",
    "print(f\"device: {device_name}\")"
   ],
   "id": "5fc9531282d0e7be",
   "outputs": [
    {
     "name": "stdout",
     "output_type": "stream",
     "text": [
      "device: cuda\n"
     ]
    }
   ],
   "execution_count": 3
  },
  {
   "metadata": {
    "ExecuteTime": {
     "end_time": "2024-12-31T06:54:37.150622Z",
     "start_time": "2024-12-31T06:54:37.147924Z"
    }
   },
   "cell_type": "code",
   "source": [
    "UPDATE_TARGET_STEPS = 500\n",
    "BATCH_SIZE = 128\n",
    "GAMMA = 0.99\n",
    "EPS_START = 0.9\n",
    "EPS_END = 0.05\n",
    "EPS_DECAY = 1000000\n",
    "TAU = 0.005\n",
    "LR = 1e-4"
   ],
   "id": "4eb1683094c43a39",
   "outputs": [],
   "execution_count": 4
  },
  {
   "metadata": {
    "ExecuteTime": {
     "end_time": "2024-12-31T06:54:37.166992Z",
     "start_time": "2024-12-31T06:54:37.159932Z"
    }
   },
   "cell_type": "code",
   "source": [
    "import sys\n",
    "sys.path.append(r\"C:\\Users\\takat\\PycharmProjects\\machine-learning\")\n",
    "import flowdata\n",
    "import flowenv"
   ],
   "id": "cb36951b35f7d0c7",
   "outputs": [],
   "execution_count": 5
  },
  {
   "metadata": {
    "collapsed": true,
    "ExecuteTime": {
     "end_time": "2024-12-31T06:54:37.252055Z",
     "start_time": "2024-12-31T06:54:37.179252Z"
    }
   },
   "cell_type": "code",
   "source": [
    "# from flowdata.src.flow_data import using_data\n",
    "\n",
    "raw_data_train, raw_data_test = flowdata.flow_data.using_data()\n",
    "\n",
    "train_env = gym.make(\"flowenv/FlowTrain-v0\", data=raw_data_train)\n",
    "test_env = gym.make(\"flowenv/FlowTest-v0\", data=raw_data_test)"
   ],
   "id": "initial_id",
   "outputs": [],
   "execution_count": 6
  },
  {
   "metadata": {
    "ExecuteTime": {
     "end_time": "2024-12-31T06:54:37.265001Z",
     "start_time": "2024-12-31T06:54:37.261590Z"
    }
   },
   "cell_type": "code",
   "source": [
    "Transaction = namedtuple('Transaction', ('state', 'action', 'next_state', 'reward'))\n",
    "\n",
    "class ReplayMemory(object):\n",
    "    def __init__(self, capacity):\n",
    "        # self.capacity = capacity\n",
    "        self.memory = deque([], maxlen=capacity)\n",
    "\n",
    "    def push(self, *args):\n",
    "        self.memory.append(Transaction(*args))\n",
    "\n",
    "    def sample(self, batch_size):\n",
    "        return random.sample(self.memory, batch_size)\n",
    "\n",
    "    def __len__(self):\n",
    "        return len(self.memory)"
   ],
   "id": "7024a28b6dfdb7f5",
   "outputs": [],
   "execution_count": 7
  },
  {
   "metadata": {
    "ExecuteTime": {
     "end_time": "2024-12-31T06:54:37.276362Z",
     "start_time": "2024-12-31T06:54:37.273582Z"
    }
   },
   "cell_type": "code",
   "source": [
    "class DQN(nn.Module):\n",
    "    def __init__(self, n_inputs, n_outputs):\n",
    "        super(DQN, self).__init__()\n",
    "        self.fc1 = nn.Linear(n_inputs, 128)\n",
    "        self.fc2 = nn.Linear(128, 128)\n",
    "        self.fc3 = nn.Linear(128, n_outputs)\n",
    "\n",
    "    def forward(self, x):\n",
    "        x = F.relu(self.fc1(x))\n",
    "        x = F.relu(self.fc2(x))\n",
    "        return self.fc3(x)"
   ],
   "id": "9d76cc101b28b0de",
   "outputs": [],
   "execution_count": 8
  },
  {
   "metadata": {
    "ExecuteTime": {
     "end_time": "2024-12-31T09:31:42.804556Z",
     "start_time": "2024-12-31T09:31:42.795349Z"
    }
   },
   "cell_type": "code",
   "source": [
    "def select_action(state):\n",
    "    global n_actions, policy_net, steps_done\n",
    "    sample = random.random()\n",
    "    eps_threshold = EPS_END + (EPS_START - EPS_END) * np.exp(-1. * steps_done / EPS_DECAY)\n",
    "    steps_done += 1\n",
    "\n",
    "    # print(f\"true or false: {sample > eps_threshold}\")\n",
    "    if sample > eps_threshold:\n",
    "        with torch.no_grad():\n",
    "            return policy_net(state).max(1).indices.view(1, 1)\n",
    "    else:\n",
    "        return torch.tensor([[random.randrange(n_actions)]], dtype=torch.long, device=device)\n",
    "\n",
    "def optimize_model():\n",
    "    global policy_net, target_net, optimizer, memory\n",
    "\n",
    "    if len(memory) < BATCH_SIZE:\n",
    "        return\n",
    "\n",
    "    transitions = memory.sample(BATCH_SIZE)\n",
    "    batch = Transaction(*zip(*transitions))\n",
    "\n",
    "    non_final_mask = torch.tensor(\n",
    "        tuple(map(lambda s: s is not None, batch.next_state)),\n",
    "        device=device,\n",
    "        dtype=torch.bool\n",
    "    )\n",
    "    non_final_next_states = torch.cat([s for s in batch.next_state if s is not None])\n",
    "\n",
    "    state_batch = torch.cat(batch.state)\n",
    "    action_batch = torch.cat(batch.action)\n",
    "    reward_batch = torch.cat(batch.reward)\n",
    "\n",
    "    state_action_values = policy_net(state_batch).gather(1, action_batch)\n",
    "\n",
    "    next_state_values = torch.zeros(BATCH_SIZE, device=device)\n",
    "    with torch.no_grad():\n",
    "        next_state_values[non_final_mask] = target_net(non_final_next_states).max(1).values\n",
    "\n",
    "    expected_state_action_values = reward_batch + GAMMA * next_state_values\n",
    "\n",
    "    criterion = nn.MSELoss()\n",
    "    loss = criterion(state_action_values, expected_state_action_values.unsqueeze(1))\n",
    "\n",
    "    optimizer.zero_grad()\n",
    "    loss.backward()\n",
    "    utils.clip_grad_value_(policy_net.parameters(), 100)\n",
    "    optimizer.step()\n",
    "\n",
    "def get_h_m_s(seconds: float):\n",
    "    hours = int(seconds // 3600)\n",
    "    minutes = int((seconds - hours * 3600) // 60)\n",
    "    seconds = seconds - hours * 3600 - minutes * 60\n",
    "    return hours, minutes, seconds\n",
    "\n",
    "def loading_bar(episode, total_episodes, interval):\n",
    "    pro_size_float = (episode + 1) / total_episodes * 20\n",
    "    show = pro_size_float * 5\n",
    "    pro_size = int(pro_size_float)\n",
    "\n",
    "    # episode...interval -> total_episodes...interval * total_episodes / episode\n",
    "    last_time = interval * (total_episodes - episode) / (episode + 1)\n",
    "    hours, minutes, seconds = get_h_m_s(last_time)\n",
    "    print(f\"\\r[{'#' * pro_size}{' ' * (20 - pro_size)}] {show:3.02f}%, last={hours:02d}:{minutes:02d}:{seconds:03.3f}\", end=\"\")"
   ],
   "id": "5bfbcb48af51e6e",
   "outputs": [],
   "execution_count": 37
  },
  {
   "metadata": {
    "ExecuteTime": {
     "end_time": "2024-12-31T09:59:23.650312Z",
     "start_time": "2024-12-31T09:33:43.743916Z"
    }
   },
   "cell_type": "code",
   "source": [
    "n_actions = train_env.action_space.n\n",
    "n_inputs = train_env.observation_space.shape[0]\n",
    "\n",
    "state, info = train_env.reset()\n",
    "\n",
    "policy_net = DQN(n_inputs, n_actions).to(device)\n",
    "target_net = DQN(n_inputs, n_actions).to(device)\n",
    "target_net.load_state_dict(policy_net.state_dict())\n",
    "\n",
    "optimizer = optim.Adam(policy_net.parameters(), lr=LR)\n",
    "memory = ReplayMemory(int(1e6))\n",
    "\n",
    "num_episodes = 5000\n",
    "steps_done = 0\n",
    "episode_rewards = []\n",
    "mean_rewards = []\n",
    "\n",
    "x = []\n",
    "\n",
    "start_time = time()\n",
    "for i_episode in range(num_episodes):\n",
    "    state, info = train_env.reset()\n",
    "    state = torch.tensor(state, dtype=torch.float32, device=device).unsqueeze(0)\n",
    "\n",
    "    sum_reward = 0\n",
    "\n",
    "    for t in count():\n",
    "        action = select_action(state)\n",
    "        # print(f\"action: {action.item()}\")\n",
    "        next_state, reward, terminated, truncated, _ = train_env.step(action.item())\n",
    "\n",
    "        reward = torch.tensor([reward], device=device)\n",
    "        done = bool(terminated)\n",
    "\n",
    "        if terminated:\n",
    "            next_state = None\n",
    "        else:\n",
    "            next_state = torch.tensor(next_state, dtype=torch.float32, device=device).unsqueeze(0)\n",
    "\n",
    "        memory.push(state, action, next_state, reward)\n",
    "\n",
    "        state = next_state\n",
    "        sum_reward += reward.item()\n",
    "\n",
    "        optimize_model()\n",
    "\n",
    "        if steps_done % UPDATE_TARGET_STEPS == 0:\n",
    "            target_net_state_dict = target_net.state_dict()\n",
    "            policy_net_state_dict = policy_net.state_dict()\n",
    "            for key in target_net_state_dict:\n",
    "                target_net_state_dict[key] = TAU * policy_net_state_dict[key] + (1 - TAU) * target_net_state_dict[key]\n",
    "            target_net.load_state_dict(target_net_state_dict)\n",
    "\n",
    "        if done:\n",
    "            episode_rewards.append(sum_reward)\n",
    "            mean_rewards.append(np.mean(episode_rewards))\n",
    "            break\n",
    "    x.append(i_episode)\n",
    "    end_time = time()\n",
    "\n",
    "    if i_episode > 0 and i_episode % 100 == 0:\n",
    "        print(f\"\\r Episode {i_episode}, reward: {sum_reward}\", end=\"\")\n",
    "\n",
    "    loading_bar(i_episode, num_episodes, end_time - start_time)\n",
    "\n",
    "plt.plot(episode_rewards)\n",
    "plt.plot(mean_rewards, color=\"red\")\n",
    "plt.show()\n",
    "\n",
    "result = pd.DataFrame(episode_rewards, columns=[\"reward\"])\n",
    "torch.save(policy_net.state_dict(), \"dqn.pth\")\n",
    "train_env.close()"
   ],
   "id": "ad35307778263903",
   "outputs": [
    {
     "name": "stdout",
     "output_type": "stream",
     "text": [
      "[##########          ] 51.56%, last=00:24:6.5946"
     ]
    },
    {
     "ename": "KeyboardInterrupt",
     "evalue": "",
     "output_type": "error",
     "traceback": [
      "\u001B[1;31m---------------------------------------------------------------------------\u001B[0m",
      "\u001B[1;31mKeyboardInterrupt\u001B[0m                         Traceback (most recent call last)",
      "Cell \u001B[1;32mIn[40], line 45\u001B[0m\n\u001B[0;32m     42\u001B[0m state \u001B[38;5;241m=\u001B[39m next_state\n\u001B[0;32m     43\u001B[0m sum_reward \u001B[38;5;241m+\u001B[39m\u001B[38;5;241m=\u001B[39m reward\u001B[38;5;241m.\u001B[39mitem()\n\u001B[1;32m---> 45\u001B[0m \u001B[43moptimize_model\u001B[49m\u001B[43m(\u001B[49m\u001B[43m)\u001B[49m\n\u001B[0;32m     47\u001B[0m \u001B[38;5;28;01mif\u001B[39;00m steps_done \u001B[38;5;241m%\u001B[39m UPDATE_TARGET_STEPS \u001B[38;5;241m==\u001B[39m \u001B[38;5;241m0\u001B[39m:\n\u001B[0;32m     48\u001B[0m     target_net_state_dict \u001B[38;5;241m=\u001B[39m target_net\u001B[38;5;241m.\u001B[39mstate_dict()\n",
      "Cell \u001B[1;32mIn[37], line 46\u001B[0m, in \u001B[0;36moptimize_model\u001B[1;34m()\u001B[0m\n\u001B[0;32m     43\u001B[0m loss \u001B[38;5;241m=\u001B[39m criterion(state_action_values, expected_state_action_values\u001B[38;5;241m.\u001B[39munsqueeze(\u001B[38;5;241m1\u001B[39m))\n\u001B[0;32m     45\u001B[0m optimizer\u001B[38;5;241m.\u001B[39mzero_grad()\n\u001B[1;32m---> 46\u001B[0m \u001B[43mloss\u001B[49m\u001B[38;5;241;43m.\u001B[39;49m\u001B[43mbackward\u001B[49m\u001B[43m(\u001B[49m\u001B[43m)\u001B[49m\n\u001B[0;32m     47\u001B[0m utils\u001B[38;5;241m.\u001B[39mclip_grad_value_(policy_net\u001B[38;5;241m.\u001B[39mparameters(), \u001B[38;5;241m100\u001B[39m)\n\u001B[0;32m     48\u001B[0m optimizer\u001B[38;5;241m.\u001B[39mstep()\n",
      "File \u001B[1;32m~\\PycharmProjects\\machine-learning\\.venv\\Lib\\site-packages\\torch\\_tensor.py:581\u001B[0m, in \u001B[0;36mTensor.backward\u001B[1;34m(self, gradient, retain_graph, create_graph, inputs)\u001B[0m\n\u001B[0;32m    571\u001B[0m \u001B[38;5;28;01mif\u001B[39;00m has_torch_function_unary(\u001B[38;5;28mself\u001B[39m):\n\u001B[0;32m    572\u001B[0m     \u001B[38;5;28;01mreturn\u001B[39;00m handle_torch_function(\n\u001B[0;32m    573\u001B[0m         Tensor\u001B[38;5;241m.\u001B[39mbackward,\n\u001B[0;32m    574\u001B[0m         (\u001B[38;5;28mself\u001B[39m,),\n\u001B[1;32m   (...)\u001B[0m\n\u001B[0;32m    579\u001B[0m         inputs\u001B[38;5;241m=\u001B[39minputs,\n\u001B[0;32m    580\u001B[0m     )\n\u001B[1;32m--> 581\u001B[0m \u001B[43mtorch\u001B[49m\u001B[38;5;241;43m.\u001B[39;49m\u001B[43mautograd\u001B[49m\u001B[38;5;241;43m.\u001B[39;49m\u001B[43mbackward\u001B[49m\u001B[43m(\u001B[49m\n\u001B[0;32m    582\u001B[0m \u001B[43m    \u001B[49m\u001B[38;5;28;43mself\u001B[39;49m\u001B[43m,\u001B[49m\u001B[43m \u001B[49m\u001B[43mgradient\u001B[49m\u001B[43m,\u001B[49m\u001B[43m \u001B[49m\u001B[43mretain_graph\u001B[49m\u001B[43m,\u001B[49m\u001B[43m \u001B[49m\u001B[43mcreate_graph\u001B[49m\u001B[43m,\u001B[49m\u001B[43m \u001B[49m\u001B[43minputs\u001B[49m\u001B[38;5;241;43m=\u001B[39;49m\u001B[43minputs\u001B[49m\n\u001B[0;32m    583\u001B[0m \u001B[43m\u001B[49m\u001B[43m)\u001B[49m\n",
      "File \u001B[1;32m~\\PycharmProjects\\machine-learning\\.venv\\Lib\\site-packages\\torch\\autograd\\__init__.py:347\u001B[0m, in \u001B[0;36mbackward\u001B[1;34m(tensors, grad_tensors, retain_graph, create_graph, grad_variables, inputs)\u001B[0m\n\u001B[0;32m    342\u001B[0m     retain_graph \u001B[38;5;241m=\u001B[39m create_graph\n\u001B[0;32m    344\u001B[0m \u001B[38;5;66;03m# The reason we repeat the same comment below is that\u001B[39;00m\n\u001B[0;32m    345\u001B[0m \u001B[38;5;66;03m# some Python versions print out the first line of a multi-line function\u001B[39;00m\n\u001B[0;32m    346\u001B[0m \u001B[38;5;66;03m# calls in the traceback and some print out the last line\u001B[39;00m\n\u001B[1;32m--> 347\u001B[0m \u001B[43m_engine_run_backward\u001B[49m\u001B[43m(\u001B[49m\n\u001B[0;32m    348\u001B[0m \u001B[43m    \u001B[49m\u001B[43mtensors\u001B[49m\u001B[43m,\u001B[49m\n\u001B[0;32m    349\u001B[0m \u001B[43m    \u001B[49m\u001B[43mgrad_tensors_\u001B[49m\u001B[43m,\u001B[49m\n\u001B[0;32m    350\u001B[0m \u001B[43m    \u001B[49m\u001B[43mretain_graph\u001B[49m\u001B[43m,\u001B[49m\n\u001B[0;32m    351\u001B[0m \u001B[43m    \u001B[49m\u001B[43mcreate_graph\u001B[49m\u001B[43m,\u001B[49m\n\u001B[0;32m    352\u001B[0m \u001B[43m    \u001B[49m\u001B[43minputs\u001B[49m\u001B[43m,\u001B[49m\n\u001B[0;32m    353\u001B[0m \u001B[43m    \u001B[49m\u001B[43mallow_unreachable\u001B[49m\u001B[38;5;241;43m=\u001B[39;49m\u001B[38;5;28;43;01mTrue\u001B[39;49;00m\u001B[43m,\u001B[49m\n\u001B[0;32m    354\u001B[0m \u001B[43m    \u001B[49m\u001B[43maccumulate_grad\u001B[49m\u001B[38;5;241;43m=\u001B[39;49m\u001B[38;5;28;43;01mTrue\u001B[39;49;00m\u001B[43m,\u001B[49m\n\u001B[0;32m    355\u001B[0m \u001B[43m\u001B[49m\u001B[43m)\u001B[49m\n",
      "File \u001B[1;32m~\\PycharmProjects\\machine-learning\\.venv\\Lib\\site-packages\\torch\\autograd\\graph.py:825\u001B[0m, in \u001B[0;36m_engine_run_backward\u001B[1;34m(t_outputs, *args, **kwargs)\u001B[0m\n\u001B[0;32m    823\u001B[0m     unregister_hooks \u001B[38;5;241m=\u001B[39m _register_logging_hooks_on_whole_graph(t_outputs)\n\u001B[0;32m    824\u001B[0m \u001B[38;5;28;01mtry\u001B[39;00m:\n\u001B[1;32m--> 825\u001B[0m     \u001B[38;5;28;01mreturn\u001B[39;00m \u001B[43mVariable\u001B[49m\u001B[38;5;241;43m.\u001B[39;49m\u001B[43m_execution_engine\u001B[49m\u001B[38;5;241;43m.\u001B[39;49m\u001B[43mrun_backward\u001B[49m\u001B[43m(\u001B[49m\u001B[43m  \u001B[49m\u001B[38;5;66;43;03m# Calls into the C++ engine to run the backward pass\u001B[39;49;00m\n\u001B[0;32m    826\u001B[0m \u001B[43m        \u001B[49m\u001B[43mt_outputs\u001B[49m\u001B[43m,\u001B[49m\u001B[43m \u001B[49m\u001B[38;5;241;43m*\u001B[39;49m\u001B[43margs\u001B[49m\u001B[43m,\u001B[49m\u001B[43m \u001B[49m\u001B[38;5;241;43m*\u001B[39;49m\u001B[38;5;241;43m*\u001B[39;49m\u001B[43mkwargs\u001B[49m\n\u001B[0;32m    827\u001B[0m \u001B[43m    \u001B[49m\u001B[43m)\u001B[49m  \u001B[38;5;66;03m# Calls into the C++ engine to run the backward pass\u001B[39;00m\n\u001B[0;32m    828\u001B[0m \u001B[38;5;28;01mfinally\u001B[39;00m:\n\u001B[0;32m    829\u001B[0m     \u001B[38;5;28;01mif\u001B[39;00m attach_logging_hooks:\n",
      "\u001B[1;31mKeyboardInterrupt\u001B[0m: "
     ]
    }
   ],
   "execution_count": 40
  },
  {
   "metadata": {
    "ExecuteTime": {
     "end_time": "2024-12-31T09:21:34.720821Z",
     "start_time": "2024-12-31T09:21:34.581526Z"
    }
   },
   "cell_type": "code",
   "source": [
    "torch.save(policy_net.state_dict(), f\"dqn_{num_episodes}.pth\")\n",
    "mean_rewards = []\n",
    "\n",
    "for i in range(0, len(episode_rewards)):\n",
    "    # print(f\"Episode {i}, mean reward: {np.mean(episode_rewards[0:i])}\")\n",
    "    mean_rewards.append(np.mean(episode_rewards[0:i]))\n",
    "\n",
    "plt.figure(figsize=(10, 5))\n",
    "plt.plot(episode_rewards)\n",
    "plt.plot(mean_rewards, color=\"red\")\n",
    "plt.show()"
   ],
   "id": "8d05f9111b71c5e0",
   "outputs": [
    {
     "name": "stderr",
     "output_type": "stream",
     "text": [
      "C:\\Users\\takat\\PycharmProjects\\machine-learning\\.venv\\Lib\\site-packages\\numpy\\_core\\fromnumeric.py:3860: RuntimeWarning: Mean of empty slice.\n",
      "  return _methods._mean(a, axis=axis, dtype=dtype,\n",
      "C:\\Users\\takat\\PycharmProjects\\machine-learning\\.venv\\Lib\\site-packages\\numpy\\_core\\_methods.py:145: RuntimeWarning: invalid value encountered in scalar divide\n",
      "  ret = ret.dtype.type(ret / rcount)\n"
     ]
    },
    {
     "data": {
      "text/plain": [
       "<Figure size 1000x500 with 1 Axes>"
      ],
      "image/png": "[encoded data removed]"
     },
     "metadata": {},
     "output_type": "display_data"
    }
   ],
   "execution_count": 24
  },
  {
   "metadata": {
    "ExecuteTime": {
     "end_time": "2024-12-31T09:26:38.478002Z",
     "start_time": "2024-12-31T09:26:32.437150Z"
    }
   },
   "cell_type": "code",
   "source": [
    "trained_net = DQN(n_inputs, n_actions).to(device)\n",
    "trained_net.load_state_dict(torch.load(\"dqn_100.pth\", weights_only=True))\n",
    "trained_net.eval()\n",
    "\n",
    "state, _ = test_env.reset()\n",
    "max_len = len(raw_data_test) - 1\n",
    "\n",
    "confusion_matrix = [0, 0, 0, 0] # TP, FP, TN, FN\n",
    "total_reward = 0\n",
    "\n",
    "start_time = time()\n",
    "for i in range(max_len):\n",
    "    with torch.no_grad():\n",
    "        action = trained_net(torch.tensor(state, dtype=torch.float32, device=device).unsqueeze(0)).max(1).indices.view(1, 1)\n",
    "\n",
    "    next_state, reward, terminated, _, info = test_env.step(action.item())\n",
    "    if action.item() == 1:\n",
    "        print(f\"action: {action.item()}, reward: {reward}, info: {info}\")\n",
    "    reward = torch.tensor([reward], device=device)\n",
    "    total_reward += reward.item()\n",
    "\n",
    "    confusion_index = (0 if \"P\" in info[\"confusion\"] else 1) if \"T\" in info[\"confusion\"] else (2 if \"P\" in info[\"confusion\"] else 3)\n",
    "    confusion_matrix[confusion_index] += 1\n",
    "\n",
    "    state = next_state\n",
    "    end_time = time()\n",
    "    # loading_bar(i, max_len, end_time - start_time)\n",
    "\n",
    "print()\n",
    "test_env.close()\n",
    "\n",
    "print(f\"confusion matrix: {confusion_matrix}\")\n",
    "\n",
    "tp = confusion_matrix[0]\n",
    "tn = confusion_matrix[1]\n",
    "fp = confusion_matrix[2]\n",
    "fn = confusion_matrix[3]\n",
    "\n",
    "accuracy = (tp + tn) / (tp + fp + fn + tn)\n",
    "print(f\"Accuracy : {accuracy:.5}\")\n",
    "precision = tp / (tp + fp)\n",
    "print(f\"Precision: {precision:.5}\")\n",
    "recall = tp / (tp + fn) if tp + fn != 0 else 0.0\n",
    "print(f\" Recall  : {recall:.5}\")\n",
    "f1 = 2 * precision * recall / (precision + recall) if precision + recall != 0 else 0.0\n",
    "print(f\"    F1   : {f1:.5}\")\n",
    "fpr = fp / (fp + tn) if fp + tn != 0 else 0.0\n",
    "print(f\"    FPR  : {fpr:.5}\")\n",
    "\n",
    "metrics = [accuracy, precision, recall, f1, fpr]\n",
    "metrics = [n * 100 for n in metrics]\n",
    "metrics_labels = [\"Accuracy\", \"Precision\", \"Recall\", \"F1\", \"FPR\"]\n",
    "\n",
    "plt.figure(1)\n",
    "plt.bar(metrics_labels, metrics)\n",
    "plt.grid()\n"
   ],
   "id": "5d587054861dc7be",
   "outputs": [
    {
     "name": "stdout",
     "output_type": "stream",
     "text": [
      "\n",
      "confusion matrix: [0, 1999, 0, 200]\n",
      "Accuracy : 0.90905\n"
     ]
    },
    {
     "ename": "ZeroDivisionError",
     "evalue": "division by zero",
     "output_type": "error",
     "traceback": [
      "\u001B[1;31m---------------------------------------------------------------------------\u001B[0m",
      "\u001B[1;31mZeroDivisionError\u001B[0m                         Traceback (most recent call last)",
      "Cell \u001B[1;32mIn[31], line 41\u001B[0m\n\u001B[0;32m     39\u001B[0m accuracy \u001B[38;5;241m=\u001B[39m (tp \u001B[38;5;241m+\u001B[39m tn) \u001B[38;5;241m/\u001B[39m (tp \u001B[38;5;241m+\u001B[39m fp \u001B[38;5;241m+\u001B[39m fn \u001B[38;5;241m+\u001B[39m tn)\n\u001B[0;32m     40\u001B[0m \u001B[38;5;28mprint\u001B[39m(\u001B[38;5;124mf\u001B[39m\u001B[38;5;124m\"\u001B[39m\u001B[38;5;124mAccuracy : \u001B[39m\u001B[38;5;132;01m{\u001B[39;00maccuracy\u001B[38;5;132;01m:\u001B[39;00m\u001B[38;5;124m.5\u001B[39m\u001B[38;5;132;01m}\u001B[39;00m\u001B[38;5;124m\"\u001B[39m)\n\u001B[1;32m---> 41\u001B[0m precision \u001B[38;5;241m=\u001B[39m \u001B[43mtp\u001B[49m\u001B[43m \u001B[49m\u001B[38;5;241;43m/\u001B[39;49m\u001B[43m \u001B[49m\u001B[43m(\u001B[49m\u001B[43mtp\u001B[49m\u001B[43m \u001B[49m\u001B[38;5;241;43m+\u001B[39;49m\u001B[43m \u001B[49m\u001B[43mfp\u001B[49m\u001B[43m)\u001B[49m\n\u001B[0;32m     42\u001B[0m \u001B[38;5;28mprint\u001B[39m(\u001B[38;5;124mf\u001B[39m\u001B[38;5;124m\"\u001B[39m\u001B[38;5;124mPrecision: \u001B[39m\u001B[38;5;132;01m{\u001B[39;00mprecision\u001B[38;5;132;01m:\u001B[39;00m\u001B[38;5;124m.5\u001B[39m\u001B[38;5;132;01m}\u001B[39;00m\u001B[38;5;124m\"\u001B[39m)\n\u001B[0;32m     43\u001B[0m recall \u001B[38;5;241m=\u001B[39m tp \u001B[38;5;241m/\u001B[39m (tp \u001B[38;5;241m+\u001B[39m fn) \u001B[38;5;28;01mif\u001B[39;00m tp \u001B[38;5;241m+\u001B[39m fn \u001B[38;5;241m!=\u001B[39m \u001B[38;5;241m0\u001B[39m \u001B[38;5;28;01melse\u001B[39;00m \u001B[38;5;241m0.0\u001B[39m\n",
      "\u001B[1;31mZeroDivisionError\u001B[0m: division by zero"
     ]
    }
   ],
   "execution_count": 31
  },
  {
   "metadata": {},
   "cell_type": "code",
   "source": "",
   "id": "f42030b47b63c5df",
   "outputs": [],
   "execution_count": null
  }
 ],
 "metadata": {
  "kernelspec": {
   "display_name": "Python 3",
   "language": "python",
   "name": "python3"
  },
  "language_info": {
   "codemirror_mode": {
    "name": "ipython",
    "version": 2
   },
   "file_extension": ".py",
   "mimetype": "text/x-python",
   "name": "python",
   "nbconvert_exporter": "python",
   "pygments_lexer": "ipython2",
   "version": "2.7.6"
  }
 },
 "nbformat": 4,
 "nbformat_minor": 5
}
