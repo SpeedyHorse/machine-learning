{
 "cells": [
  {
   "cell_type": "markdown",
   "id": "9829546b457e4ca2",
   "metadata": {},
   "source": [
    "# PPO"
   ]
  },
  {
   "cell_type": "code",
   "execution_count": 1,
   "id": "initial_id",
   "metadata": {
    "ExecuteTime": {
     "end_time": "2025-01-05T06:33:04.459874Z",
     "start_time": "2025-01-05T06:33:04.454954Z"
    }
   },
   "outputs": [],
   "source": [
    "import matplotlib\n",
    "import random\n",
    "\n",
    "from collections import deque, namedtuple\n",
    "from itertools import count\n",
    "from time import time\n",
    "\n",
    "import gymnasium as gym\n",
    "import matplotlib.pyplot as plt\n",
    "import numpy as np\n",
    "import torch\n",
    "import torch.nn as nn\n",
    "import torch.nn.functional as F\n",
    "import torch.nn.utils as utils\n",
    "import torch.optim as optim\n",
    "import pandas as pd\n",
    "\n",
    "is_ipython = 'inline' in matplotlib.get_backend()\n",
    "if is_ipython:\n",
    "    from IPython import display"
   ]
  },
  {
   "cell_type": "code",
   "execution_count": 2,
   "id": "35a7a0da379a7907",
   "metadata": {
    "ExecuteTime": {
     "end_time": "2025-01-05T06:33:05.668898Z",
     "start_time": "2025-01-05T06:33:05.664475Z"
    }
   },
   "outputs": [
    {
     "name": "stdout",
     "output_type": "stream",
     "text": [
      "device: cuda\n"
     ]
    }
   ],
   "source": [
    "device_name = \"cpu\"\n",
    "\n",
    "if True:\n",
    "    if torch.cuda.is_available():\n",
    "        device_name = \"cuda\"\n",
    "    elif torch.mps.is_available():\n",
    "        device_name = \"mps\"\n",
    "    # elif torch.hip.is_available():\n",
    "    #     device_name = \"hip\"\n",
    "    elif torch.mtia.is_available():\n",
    "        device_name = \"mtia\"\n",
    "    elif torch.xpu.is_available():\n",
    "        device_name = \"xpu\"\n",
    "\n",
    "device = torch.device(device_name)\n",
    "print(f\"device: {device_name}\")"
   ]
  },
  {
   "cell_type": "markdown",
   "id": "6e0ad38480eece59",
   "metadata": {},
   "source": [
    "## Process data"
   ]
  },
  {
   "cell_type": "code",
   "execution_count": 3,
   "id": "6c20eb4be516024a",
   "metadata": {
    "ExecuteTime": {
     "end_time": "2025-01-05T06:34:00.863009Z",
     "start_time": "2025-01-05T06:34:00.719364Z"
    }
   },
   "outputs": [
    {
     "name": "stdout",
     "output_type": "stream",
     "text": [
      "      Unnamed: 0.1  Unnamed: 0                                 Flow ID  \\\n",
      "0            38416         108  192.168.1.5-192.168.1.12-20003-57624-6   \n",
      "1             2081         602   192.168.1.1-192.168.1.9-49367-20001-6   \n",
      "2            19562         906  192.168.1.7-192.168.1.12-20003-59969-6   \n",
      "3            40475          65   192.168.1.2-192.168.1.3-54139-20000-6   \n",
      "4            40693          93                   8.0.6.4-8.6.0.1-0-0-0   \n",
      "...            ...         ...                                     ...   \n",
      "5121         40546         136   192.168.1.2-192.168.1.3-54139-20000-6   \n",
      "5122         40811          33                   8.0.6.4-8.6.0.1-0-0-0   \n",
      "5123         40758         158   192.168.1.2-192.168.1.4-48948-20000-6   \n",
      "5124         40481          71   192.168.1.2-192.168.1.3-54139-20000-6   \n",
      "5125         39398         147  192.168.1.5-192.168.1.12-20003-57624-6   \n",
      "\n",
      "            Src IP  Src Port       Dst IP  Dst Port  Protocol  \\\n",
      "0     192.168.1.12     57624  192.168.1.5     20003         6   \n",
      "1      192.168.1.1     49367  192.168.1.9     20001         6   \n",
      "2     192.168.1.12     59969  192.168.1.7     20003         6   \n",
      "3      192.168.1.2     54139  192.168.1.3     20000         6   \n",
      "4          8.6.0.1         0      8.0.6.4         0         0   \n",
      "...            ...       ...          ...       ...       ...   \n",
      "5121   192.168.1.2     54139  192.168.1.3     20000         6   \n",
      "5122       8.6.0.1         0      8.0.6.4         0         0   \n",
      "5123   192.168.1.2     48948  192.168.1.4     20000         6   \n",
      "5124   192.168.1.2     54139  192.168.1.3     20000         6   \n",
      "5125  192.168.1.12     57624  192.168.1.5     20003         6   \n",
      "\n",
      "                   Timestamp  Flow Duration  ...  Active Mean  Active Std  \\\n",
      "0     19/05/2020 03:16:30 AM       0.994675  ...     0.000000    0.000000   \n",
      "1     15/05/2020 02:00:05 AM       0.983834  ...     0.000000    0.000000   \n",
      "2     16/05/2020 02:56:06 AM       0.983841  ...     0.000000    0.000000   \n",
      "3     18/05/2020 03:13:14 PM       0.733082  ...     0.000000    0.000000   \n",
      "4     18/05/2020 03:55:08 PM       0.999717  ...     0.011993    0.000000   \n",
      "...                      ...            ...  ...          ...         ...   \n",
      "5121  18/05/2020 04:37:03 PM       0.204831  ...     0.000000    0.000000   \n",
      "5122  18/05/2020 02:36:40 PM       0.995936  ...     0.149222    0.393163   \n",
      "5123  18/05/2020 05:22:43 PM       0.540543  ...     0.000000    0.000000   \n",
      "5124  18/05/2020 03:20:51 PM       0.473125  ...     0.000000    0.000000   \n",
      "5125  19/05/2020 02:06:27 AM       0.984605  ...     0.000000    0.000000   \n",
      "\n",
      "      Active Max  Active Min     Idle Mean      Idle Std      Idle Max  \\\n",
      "0       0.000000    0.000000  0.000000e+00  0.000000e+00  0.000000e+00   \n",
      "1       0.000000    0.000000  0.000000e+00  0.000000e+00  0.000000e+00   \n",
      "2       0.000000    0.000000  0.000000e+00  0.000000e+00  0.000000e+00   \n",
      "3       0.000000    0.000000  7.499957e-01  7.071043e-01  9.999943e-01   \n",
      "4       0.011993    0.011993  3.854689e-09  0.000000e+00  3.854689e-09   \n",
      "...          ...         ...           ...           ...           ...   \n",
      "5121    0.000000    0.000000  1.546075e-08  0.000000e+00  1.546075e-08   \n",
      "5122    0.330002    0.037838  4.104721e-09  8.149570e-10  4.703363e-09   \n",
      "5123    0.000000    0.000000  3.899834e-08  0.000000e+00  3.899834e-08   \n",
      "5124    0.000000    0.000000  3.571175e-08  0.000000e+00  3.571175e-08   \n",
      "5125    0.000000    0.000000  0.000000e+00  0.000000e+00  0.000000e+00   \n",
      "\n",
      "          Idle Min                Label  Binary Label  \n",
      "0     0.000000e+00            INIT_DATA         False  \n",
      "1     0.000000e+00  DISABLE_UNSOLICITED         False  \n",
      "2     0.000000e+00         WARM_RESTART         False  \n",
      "3     1.069430e-08             MITM_DOS         False  \n",
      "4     3.854689e-09        ARP_POISONING         False  \n",
      "...            ...                  ...           ...  \n",
      "5121  1.546075e-08             MITM_DOS         False  \n",
      "5122  3.553812e-09        ARP_POISONING         False  \n",
      "5123  3.899834e-08             MITM_DOS         False  \n",
      "5124  3.571175e-08             MITM_DOS         False  \n",
      "5125  0.000000e+00            INIT_DATA         False  \n",
      "\n",
      "[5125 rows x 87 columns]\n"
     ]
    }
   ],
   "source": [
    "import sys\n",
    "sys.path.append(r\"C:\\Users\\takat\\PycharmProjects\\machine-learning\")\n",
    "import flowdata\n",
    "import flowenv\n",
    "\n",
    "raw_data_train, raw_data_test = flowdata.flow_data.using_data()\n",
    "print(raw_data_train)\n",
    "# train_env = gym.make(\"flowenv/FlowTrain-v0\", data=raw_data_train)\n",
    "train_env = gym.make(\"flowenv/Flow-v1\", data=raw_data_train)\n",
    "# test_env = gym.make(\"flowenv/FlowTest-v0\", data=raw_data_test)\n",
    "test_env = gym.make(\"flowenv/Flow-v1\", data=raw_data_test)"
   ]
  },
  {
   "cell_type": "markdown",
   "id": "480cd4e937dd0e7a",
   "metadata": {},
   "source": [
    "## Memory"
   ]
  },
  {
   "cell_type": "code",
   "execution_count": 4,
   "id": "4b2c5d2dc4692746",
   "metadata": {},
   "outputs": [],
   "source": [
    "Transaction = namedtuple('Transaction', ('state', 'action', 'next_state', 'reward'))\n",
    "\n",
    "class ReplayMemory(object):\n",
    "    def __init__(self, capacity):\n",
    "        # self.capacity = capacity\n",
    "        self.memory = deque([], maxlen=capacity)\n",
    "\n",
    "    def push(self, *args):\n",
    "        self.memory.append(Transaction(*args))\n",
    "\n",
    "    def sample(self, batch_size):\n",
    "        return random.sample(self.memory, batch_size)\n",
    "\n",
    "    def __len__(self):\n",
    "        return len(self.memory)"
   ]
  },
  {
   "cell_type": "markdown",
   "id": "f366eff4c463bc1",
   "metadata": {},
   "source": [
    "## Plot rewards"
   ]
  },
  {
   "cell_type": "code",
   "execution_count": 5,
   "id": "986abee18b347dab",
   "metadata": {},
   "outputs": [],
   "source": [
    "def plot_rewards(rewards: list, show_result=False):\n",
    "    plt.figure(1)\n",
    "    # durations_t = torch.tensor(episode_durations, dtype=torch.float)\n",
    "\n",
    "    if show_result:\n",
    "        plt.title(\"Result\")\n",
    "    else:\n",
    "        plt.clf()\n",
    "        plt.title(\"Training...\")\n",
    "    means = [rewards[0]]\n",
    "    for i in range(1, len(rewards)):\n",
    "        means.append(np.mean(rewards[0:i]))\n",
    "\n",
    "    plt.xlabel(\"Episode\")\n",
    "    plt.ylabel(\"Reward\")\n",
    "    plt.plot(rewards)\n",
    "    plt.plot(means, color=\"red\")\n",
    "    plt.grid()\n",
    "\n",
    "    plt.pause(0.001)\n",
    "    if is_ipython:\n",
    "        if not show_result:\n",
    "            display.display(plt.gcf())\n",
    "            display.clear_output(wait=True)\n",
    "        else:\n",
    "            display.display(plt.gcf())"
   ]
  },
  {
   "cell_type": "markdown",
   "id": "10f8d088cc400a79",
   "metadata": {},
   "source": [
    "### Plot Metrics"
   ]
  },
  {
   "cell_type": "code",
   "execution_count": 6,
   "id": "f781b493f2dee8a4",
   "metadata": {},
   "outputs": [],
   "source": [
    "def plot_metrics(metrics_dict: dict, show_result=False):\n",
    "    fig = plt.figure(figsize=(16, 20))\n",
    "\n",
    "    ac = fig.add_subplot(5, 1, 1)\n",
    "    ac.plot(metrics_dict[\"accuracy\"], label=\"accuracy\")\n",
    "    ac.grid()\n",
    "    ac.set_title(\"Accuracy\")\n",
    "\n",
    "    pr = fig.add_subplot(5, 1, 2)\n",
    "    pr.plot(metrics_dict[\"precision\"], label=\"precision\", color=\"green\")\n",
    "    pr.grid()\n",
    "    pr.set_title(\"Precision\")\n",
    "\n",
    "    re = fig.add_subplot(5, 1, 3)\n",
    "    re.plot(metrics_dict[\"recall\"], label=\"recall\", color=\"red\")\n",
    "    re.grid()\n",
    "    re.set_title(\"Recall\")\n",
    "\n",
    "    f1 = fig.add_subplot(5, 1, 4)\n",
    "    f1.plot(metrics_dict[\"f1\"], label=\"f1\", color=\"black\")\n",
    "    f1.grid()\n",
    "    f1.set_title(\"F1\")\n",
    "\n",
    "    fpr = fig.add_subplot(5, 1, 5)\n",
    "    fpr.plot(metrics_dict[\"fpr\"], label=\"fpr\", color=\"purple\")\n",
    "    fpr.grid()\n",
    "    fpr.set_title(\"FPR\")\n",
    "\n",
    "    plt.tight_layout()\n",
    "    plt.pause(0.001)\n",
    "    if is_ipython:\n",
    "        if not show_result:\n",
    "            display.display(plt.gcf())\n",
    "            display.clear_output(wait=True)\n",
    "        else:\n",
    "            display.display(plt.gcf())\n",
    "\n",
    "\n",
    "def calculate_metrics(tp, tn, fp, fn):\n",
    "    accuracy = (tp + tn) / (tp + fp + fn + tn)\n",
    "    precision = tp / (tp + fp) if tp + fp != 0 else -1\n",
    "    recall = tp / (tp + fn) if tp + fn != 0 else -1\n",
    "    f1 = 2 * precision * recall / (precision + recall) if precision + recall != 0 else None\n",
    "    fpr = fp / (fp + tn) if fp + tn != 0 else None\n",
    "\n",
    "    if precision < 0:\n",
    "        precision = None\n",
    "    if recall < 0:\n",
    "        recall = None\n",
    "    return accuracy, precision, recall, f1, fpr"
   ]
  },
  {
   "cell_type": "markdown",
   "id": "e09a75ff736ef3f0",
   "metadata": {},
   "source": [
    "## Network"
   ]
  },
  {
   "metadata": {},
   "cell_type": "code",
   "outputs": [],
   "execution_count": null,
   "source": [
    "class ActorCriticNetwork(nn.Module):\n",
    "    def __init__(self, n_inputs, n_outputs):\n",
    "        super(ActorCriticNetwork, self).__init__()\n",
    "        self.common = nn.Sequential(\n",
    "            nn.Linear(n_inputs, 128),\n",
    "            nn.ReLU(),\n",
    "        )\n",
    "        self.actor = nn.Sequential(\n",
    "            nn.Linear(128, n_outputs),\n",
    "            nn.Softmax(dim=-1)\n",
    "        )\n",
    "        self.critic = nn.Linear(128, 1)\n",
    "\n",
    "    def forward(self, x):\n",
    "        common_out = self.common(x)\n",
    "        action_probs = self.actor(common_out)\n",
    "        state_value = self.critic(common_out)\n",
    "        return action_probs, state_value"
   ],
   "id": "389c7b5fb519ec9c"
  },
  {
   "metadata": {},
   "cell_type": "markdown",
   "source": "## Constants",
   "id": "79b0c5368587df96"
  },
  {
   "metadata": {},
   "cell_type": "code",
   "outputs": [],
   "execution_count": null,
   "source": [
    "LR = 1e-4\n",
    "GAMMA = 0.99\n",
    "EPSILON = 0.2\n",
    "BATCH_SIZE = 64"
   ],
   "id": "eecac54ea38bbe08"
  },
  {
   "cell_type": "markdown",
   "id": "8b52e62d70492c4",
   "metadata": {},
   "source": [
    "## Variables"
   ]
  },
  {
   "metadata": {},
   "cell_type": "code",
   "outputs": [],
   "execution_count": null,
   "source": [
    "# TODO: change network\n",
    "num_episodes = 1000\n",
    "\n",
    "n_inputs = train_env.observation_space.shape[0]\n",
    "n_outputs = train_env.action_space.n\n",
    "\n",
    "policy_net = ActorCriticNetwork(n_inputs, n_outputs).to(device)\n",
    "\n",
    "optimizer = optim.Adam(policy_net.parameters(), lr=LR)\n",
    "steps_done = 0\n",
    "\n",
    "memory = ReplayMemory(int(1e6))\n",
    "episode_rewards = []"
   ],
   "id": "9c44879a6eba44d4"
  },
  {
   "cell_type": "markdown",
   "id": "540ad37010e273fd",
   "metadata": {},
   "source": [
    "## Functions"
   ]
  },
  {
   "metadata": {},
   "cell_type": "code",
   "outputs": [],
   "execution_count": null,
   "source": [
    "# TODO: return policy_net\n",
    "def select_action(state: torch.Tensor):\n",
    "    prob_distribution = policy_net(state)\n",
    "    action = torch.multinomial(prob_distribution, 1)\n",
    "    return action\n",
    "\n",
    "def optimize_model():\n",
    "    if len(memory) < BATCH_SIZE:\n",
    "        return\n",
    "    transitions = memory.sample(BATCH_SIZE)\n",
    "    batch = Transaction(*zip(*transitions))\n",
    "\n",
    "    states = torch.cat(batch.state)\n",
    "    actions = torch.cat(batch.action)\n",
    "    rewards = torch.cat(batch.reward)\n",
    "\n",
    "    G = 0\n",
    "    returns = []\n",
    "\n",
    "    for r in torch.flip(rewards, dims=[0]):\n",
    "        G = r + GAMMA * G\n",
    "        returns.insert(0, G)\n",
    "\n",
    "    returns = torch.tensor(returns, device=device, dtype=torch.float32)\n",
    "\n",
    "    old_probs = policy_net(states).gather(1, actions).detach()\n",
    "\n",
    "    for _ in range(5):\n",
    "        new_props = policy_net(states).gather(1, actions)\n",
    "        ratio = new_props / old_probs\n",
    "\n",
    "        advantages = returns - returns.mean()\n",
    "\n",
    "        surr1 = ratio * advantages\n",
    "        surr2 = torch.clamp(ratio, 1 - EPSILON, 1 + EPSILON) * advantages\n",
    "        loss = -torch.min(surr1, surr2).mean()\n",
    "\n",
    "        optimizer.zero_grad()\n",
    "        loss.backward()\n",
    "        optimizer.step()"
   ],
   "id": "9edc147a39be5d78"
  },
  {
   "cell_type": "markdown",
   "id": "dffe25c872c64b32",
   "metadata": {},
   "source": [
    "## Main loop"
   ]
  },
  {
   "cell_type": "code",
   "execution_count": 17,
   "id": "187feeddf30c4b37",
   "metadata": {},
   "outputs": [
    {
     "data": {
      "image/png": "[encoded data removed]",
      "text/plain": [
       "<Figure size 640x480 with 1 Axes>"
      ]
     },
     "metadata": {},
     "output_type": "display_data"
    },
    {
     "data": {
      "text/plain": [
       "<Figure size 640x480 with 0 Axes>"
      ]
     },
     "metadata": {},
     "output_type": "display_data"
    },
    {
     "data": {
      "text/plain": [
       "<Figure size 640x480 with 0 Axes>"
      ]
     },
     "metadata": {},
     "output_type": "display_data"
    }
   ],
   "source": [
    "for i_episode in range(num_episodes):\n",
    "    # Initialize the environment and state\n",
    "    sum_reward = 0\n",
    "\n",
    "    initial_state, info = train_env.reset()\n",
    "    state = torch.tensor(initial_state, device=device, dtype=torch.float32).unsqueeze(0)\n",
    "\n",
    "    for t in count():\n",
    "        # select action\n",
    "        action = select_action(state)\n",
    "\n",
    "        # calculate next state\n",
    "        raw_next_state, reward, terminated, truncated, info = train_env.step(action.item())\n",
    "\n",
    "        # to tensor\n",
    "        if terminated:\n",
    "            next_state = None\n",
    "        else:\n",
    "            next_state = torch.tensor(raw_next_state, device=device, dtype=torch.float32).unsqueeze(0)\n",
    "        reward = torch.tensor([reward], device=device, dtype=torch.float32)\n",
    "\n",
    "        # store the transition in memory\n",
    "        memory.push(state, action, next_state, reward)\n",
    "        sum_reward += reward.item()\n",
    "\n",
    "        # move to the next state\n",
    "        state = next_state\n",
    "\n",
    "        # optimize the model\n",
    "        optimize_model()\n",
    "\n",
    "        if terminated:\n",
    "            break\n",
    "\n",
    "    # do after the episode\n",
    "    episode_rewards.append(sum_reward)\n",
    "    if i_episode > 0 and i_episode % 10 == 0:\n",
    "        plot_rewards(episode_rewards)\n",
    "\n",
    "# complete the episode\n",
    "plot_rewards(episode_rewards, show_result=True)\n",
    "torch.save(policy_net.state_dict(), \"ppo_no2.pth\")  # save the model\n",
    "\n",
    "train_env.close()"
   ]
  },
  {
   "cell_type": "markdown",
   "id": "c9740beca7384b44",
   "metadata": {},
   "source": [
    "## Test the model"
   ]
  },
  {
   "metadata": {},
   "cell_type": "code",
   "outputs": [],
   "execution_count": null,
   "source": [
    "MODEL_PATH = \"ppo_no2.pth\"\n",
    "\n",
    "# TODO: load the model\n",
    "# load the model\n",
    "trained_network = ActorCriticNetwork(n_inputs, n_outputs).to(device)\n",
    "trained_network.load_state_dict(torch.load(MODEL_PATH, map_location=device, weights_only=True))\n",
    "trained_network.eval()\n",
    "\n",
    "# test the model\n",
    "\n",
    "confusion_array = np.zeros((2, 2), dtype=np.int32)\n",
    "metrics_dictionary = {\n",
    "    \"accuracy\": [],\n",
    "    \"precision\": [],\n",
    "    \"recall\": [],\n",
    "    \"f1\": [],\n",
    "    \"fpr\": []\n",
    "}\n",
    "\n",
    "for i_loop in range(100):\n",
    "    test_raw_state, _ = test_env.reset()\n",
    "    test_state = torch.tensor(test_raw_state, device=device, dtype=torch.float32).unsqueeze(0)\n",
    "\n",
    "    for t in count():\n",
    "        with torch.no_grad():\n",
    "            test_action = trained_network(test_state).max(1).indices.view(1, 1)\n",
    "\n",
    "        test_raw_next_state, test_reward, test_terminated, test_truncated, test_info = test_env.step(test_action.item())\n",
    "\n",
    "        # calculate confusion matrix\n",
    "        raw = 0 if test_reward == 1 else 1\n",
    "\n",
    "        # test_info = (row, column) means confusion matrix index\n",
    "        index = test_info[\"confusion_position\"]\n",
    "        confusion_array[index[0], index[1]] += 1\n",
    "\n",
    "        if test_terminated:\n",
    "            break\n",
    "\n",
    "        # make next state tensor and update state\n",
    "        test_state = torch.tensor(test_raw_next_state, device=device, dtype=torch.float32).unsqueeze(0)\n",
    "\n",
    "    # calculate metrics\n",
    "    tp = confusion_array[0, 0]\n",
    "    tn = confusion_array[1, 1]\n",
    "    fp = confusion_array[0, 1]\n",
    "    fn = confusion_array[1, 0]\n",
    "\n",
    "    accuracy, precision, recall, f1, fpr = calculate_metrics(tp, tn, fp, fn)\n",
    "    metrics_dictionary[\"accuracy\"].append(accuracy)\n",
    "    metrics_dictionary[\"precision\"].append(precision)\n",
    "    metrics_dictionary[\"recall\"].append(recall)\n",
    "    metrics_dictionary[\"f1\"].append(f1)\n",
    "    metrics_dictionary[\"fpr\"].append(fpr)\n",
    "\n",
    "    if i_loop % 10 == 0:\n",
    "        plot_metrics(metrics_dictionary)\n",
    "\n",
    "# plot metrics\n",
    "plot_metrics(metrics_dictionary, show_result=True)"
   ],
   "id": "501c88fa8eb73696"
  }
 ],
 "metadata": {
  "kernelspec": {
   "display_name": "Python 3 (ipykernel)",
   "language": "python",
   "name": "python3"
  },
  "language_info": {
   "codemirror_mode": {
    "name": "ipython",
    "version": 3
   },
   "file_extension": ".py",
   "mimetype": "text/x-python",
   "name": "python",
   "nbconvert_exporter": "python",
   "pygments_lexer": "ipython3",
   "version": "3.12.0"
  }
 },
 "nbformat": 4,
 "nbformat_minor": 5
}
